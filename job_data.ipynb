{
 "cells": [
  {
   "cell_type": "code",
   "execution_count": 16,
   "metadata": {},
   "outputs": [],
   "source": [
    "import pandas as pd\n",
    "import numpy as np\n",
    "import matplotlib as mpl\n",
    "import matplotlib.pyplot as plt"
   ]
  },
  {
   "cell_type": "code",
   "execution_count": 2,
   "metadata": {},
   "outputs": [],
   "source": [
    "import requests\n",
    "import json"
   ]
  },
  {
   "cell_type": "code",
   "execution_count": 3,
   "metadata": {},
   "outputs": [],
   "source": [
    "job_list = ['data scientist', \n",
    "            'бизнес аналитик', \n",
    "            'web разработчик', \n",
    "            'python программист']\n",
    "max_samples = 400"
   ]
  },
  {
   "cell_type": "code",
   "execution_count": 140,
   "metadata": {},
   "outputs": [],
   "source": [
    "job_list = ['сварщик', \n",
    "            'повар', \n",
    "            'преподаватель английского', \n",
    "            'секретарь']\n",
    "max_samples = 400"
   ]
  },
  {
   "cell_type": "code",
   "execution_count": 4,
   "metadata": {},
   "outputs": [],
   "source": [
    "def get(query, timeout=5, max_retries=5, backoff_factor=0.3):\n",
    "    \"\"\" Выполнить GET-запрос\n",
    "\n",
    "    :param query: запрос с адресом\n",
    "    :param timeout: максимальное время ожидания ответа от сервера\n",
    "    :param max_retries: максимальное число повторных запросов\n",
    "    :param backoff_factor: коэффициент экспоненциального нарастания задержки\n",
    "    \"\"\"\n",
    "    import time\n",
    "    import random\n",
    "    delay = 0\n",
    "    for i in range(max_retries):\n",
    "        try:\n",
    "            response = requests.get(query)\n",
    "            return response.json()\n",
    "        except:\n",
    "            pass\n",
    "        time.sleep(delay)\n",
    "        delay = min(delay * backoff_factor, timeout)\n",
    "        delay += random.random()\n",
    "    return response"
   ]
  },
  {
   "cell_type": "code",
   "execution_count": 19,
   "metadata": {},
   "outputs": [],
   "source": [
    "def get_id_page_counts(job_name):\n",
    "    print(job_name)\n",
    "    query = \"https://api.hh.ru/vacancies?text=\" + job_name\n",
    "    result = get(query)\n",
    "    return (result['found'], result['pages'])"
   ]
  },
  {
   "cell_type": "code",
   "execution_count": 6,
   "metadata": {},
   "outputs": [],
   "source": [
    "def get_vacancy_ids(job_name):\n",
    "    query_data = {\n",
    "        \"search_field\": job_name,\n",
    "        \"page\": 0\n",
    "    }\n",
    "    id_count, page_count = get_id_page_counts(job_name)\n",
    "    id_list = []\n",
    "    while query_data['page']<page_count:\n",
    "        query = \"https://api.hh.ru/vacancies?text={search_field}&page={page}\".format(**query_data)\n",
    "        result = get(query)\n",
    "        query_data[\"page\"] += 1\n",
    "        for i in range(len(result['items'])):\n",
    "            id_list.append(result['items'][i]['id'])\n",
    "    return id_list"
   ]
  },
  {
   "cell_type": "code",
   "execution_count": 7,
   "metadata": {},
   "outputs": [],
   "source": [
    "def parse_append(raw_data, json_data):\n",
    "    if not json_data:\n",
    "        json_data={\n",
    "                'id': [],\n",
    "                'name': [],\n",
    "                'schedule': [],\n",
    "                'employment':[],\n",
    "                'experience':[],\n",
    "                'salary_min': [],\n",
    "                'salary_max': [],\n",
    "                'currency': []\n",
    "    }\n",
    "    json_data['id'].append(raw_data['id'])\n",
    "    json_data['name'].append(raw_data['name'])\n",
    "    json_data['schedule'].append(raw_data['schedule']['id'])\n",
    "    json_data['employment'].append(raw_data['employment']['id'])\n",
    "    json_data['experience'].append(raw_data['experience']['id'])\n",
    "    if raw_data['salary']:\n",
    "        if raw_data['salary']['from'] == None: \n",
    "            json_data['salary_min'].append(raw_data['salary']['to'])\n",
    "        else:\n",
    "            json_data['salary_min'].append(raw_data['salary']['from'])\n",
    "        if raw_data['salary']['to'] == None: \n",
    "            json_data['salary_max'].append(raw_data['salary']['from'])\n",
    "        else:\n",
    "            json_data['salary_max'].append(raw_data['salary']['to'])\n",
    "        json_data['currency'].append(raw_data['salary']['currency'])\n",
    "    else:\n",
    "        json_data['salary_min'].append(None)\n",
    "        json_data['salary_max'].append(None)\n",
    "        json_data['currency'].append(None)   \n",
    "    return json_data"
   ]
  },
  {
   "cell_type": "code",
   "execution_count": 30,
   "metadata": {},
   "outputs": [],
   "source": [
    "def parse_append(raw_data, json_data):\n",
    "    try:\n",
    "        if not json_data:\n",
    "            json_data={\n",
    "                    'id': [],\n",
    "                    'name': [],\n",
    "                    'schedule': [],\n",
    "                    'employment':[],\n",
    "                    'experience':[],\n",
    "                    'salary_min': [],\n",
    "                    'salary_max': [],\n",
    "                    'currency': []\n",
    "        }\n",
    "        json_data['id'].append(raw_data['id'])\n",
    "        json_data['name'].append(raw_data['name'])\n",
    "        json_data['schedule'].append(raw_data['schedule']['id'])\n",
    "        json_data['employment'].append(raw_data['employment']['id'])\n",
    "        json_data['experience'].append(raw_data['experience']['id'])\n",
    "        if raw_data['salary']:\n",
    "            if raw_data['salary']['from'] == None: \n",
    "                json_data['salary_min'].append(raw_data['salary']['to'])\n",
    "            else:\n",
    "                json_data['salary_min'].append(raw_data['salary']['from'])\n",
    "            if raw_data['salary']['to'] == None: \n",
    "                json_data['salary_max'].append(raw_data['salary']['from'])\n",
    "            else:\n",
    "                json_data['salary_max'].append(raw_data['salary']['to'])\n",
    "            json_data['currency'].append(raw_data['salary']['currency'])\n",
    "        else:\n",
    "            json_data['salary_min'].append(None)\n",
    "            json_data['salary_max'].append(None)\n",
    "            json_data['currency'].append(None)   \n",
    "        return json_data\n",
    "    except:\n",
    "        print(raw_data)"
   ]
  },
  {
   "cell_type": "code",
   "execution_count": 8,
   "metadata": {},
   "outputs": [],
   "source": [
    "def ids_to_data(id_list):\n",
    "    job_json = {}\n",
    "    for i in range(len(id_list)):\n",
    "        query = \"https://api.hh.ru/vacancies/\" + id_list[i]\n",
    "        job_json = parse_append(get(query), job_json)\n",
    "    return job_json        "
   ]
  },
  {
   "cell_type": "code",
   "execution_count": 9,
   "metadata": {},
   "outputs": [],
   "source": [
    "def get_job_data(job_name, count=None):\n",
    "    id_list = get_vacancy_ids(job_name)\n",
    "    if count:\n",
    "        return ids_to_data(id_list[:count])\n",
    "    return ids_to_data(id_list)"
   ]
  },
  {
   "cell_type": "code",
   "execution_count": 133,
   "metadata": {},
   "outputs": [],
   "source": [
    "def normalize_currency(job_entry):\n",
    "    if job_entry.currency == 'USD':\n",
    "        job_entry.currency = 'RUR'\n",
    "        job_entry.salary *= 75\n",
    "    if job_entry.currency == 'EUR':\n",
    "        job_entry.currency = 'RUR'\n",
    "        job_entry.salary *= 90\n",
    "    return job_entry"
   ]
  },
  {
   "cell_type": "code",
   "execution_count": 129,
   "metadata": {},
   "outputs": [],
   "source": [
    "def normalize_salary(job_df):\n",
    "    job_df.insert(loc=4, column='salary', value=((job_df['salary_min']+job_df['salary_max'])/2))\n",
    "    job_df = job_df.apply(normalize_currency, axis=1)\n",
    "    return job_df.drop(columns=['salary_min', 'salary_max', 'currency'])"
   ]
  },
  {
   "cell_type": "code",
   "execution_count": 142,
   "metadata": {},
   "outputs": [],
   "source": [
    "job_df_list = {}\n",
    "for i in range(len(job_list)):\n",
    "    job_df_list[job_list[i]] = {}"
   ]
  },
  {
   "cell_type": "code",
   "execution_count": 143,
   "metadata": {},
   "outputs": [
    {
     "name": "stdout",
     "output_type": "stream",
     "text": [
      "dict_keys(['сварщик', 'повар', 'преподаватель английского', 'секретарь'])\n"
     ]
    }
   ],
   "source": [
    "print(job_df_list.keys())"
   ]
  },
  {
   "cell_type": "code",
   "execution_count": 145,
   "metadata": {},
   "outputs": [
    {
     "name": "stdout",
     "output_type": "stream",
     "text": [
      "сварщик\n",
      "повар\n",
      "преподаватель английского\n",
      "секретарь\n"
     ]
    }
   ],
   "source": [
    "for job in job_df_list.keys():\n",
    "    job_df_list[job] = pd.DataFrame(get_job_data(job, count = max_samples))"
   ]
  },
  {
   "cell_type": "code",
   "execution_count": 146,
   "metadata": {},
   "outputs": [],
   "source": [
    "for job in job_df_list.keys():\n",
    "    if job == list(job_df_list.keys())[0]:\n",
    "        job_df_full = job_df_list[job].head(max_samples)\n",
    "        job_df_full.insert(loc=2, column='job_type', value=job)\n",
    "    else:\n",
    "        job_df_full = job_df_full.append(job_df_list[job])\n",
    "        job_df_full['job_type'] = job_df_full['job_type'].fillna(job)"
   ]
  },
  {
   "cell_type": "code",
   "execution_count": 147,
   "metadata": {},
   "outputs": [
    {
     "data": {
      "text/html": [
       "<div>\n",
       "<style scoped>\n",
       "    .dataframe tbody tr th:only-of-type {\n",
       "        vertical-align: middle;\n",
       "    }\n",
       "\n",
       "    .dataframe tbody tr th {\n",
       "        vertical-align: top;\n",
       "    }\n",
       "\n",
       "    .dataframe thead th {\n",
       "        text-align: right;\n",
       "    }\n",
       "</style>\n",
       "<table border=\"1\" class=\"dataframe\">\n",
       "  <thead>\n",
       "    <tr style=\"text-align: right;\">\n",
       "      <th></th>\n",
       "      <th>id</th>\n",
       "      <th>name</th>\n",
       "      <th>job_type</th>\n",
       "      <th>schedule</th>\n",
       "      <th>employment</th>\n",
       "      <th>experience</th>\n",
       "      <th>salary_min</th>\n",
       "      <th>salary_max</th>\n",
       "      <th>currency</th>\n",
       "    </tr>\n",
       "  </thead>\n",
       "  <tbody>\n",
       "    <tr>\n",
       "      <th>0</th>\n",
       "      <td>41130189</td>\n",
       "      <td>Сварщик-универсал</td>\n",
       "      <td>сварщик</td>\n",
       "      <td>flyInFlyOut</td>\n",
       "      <td>full</td>\n",
       "      <td>between3And6</td>\n",
       "      <td>240000.0</td>\n",
       "      <td>300000.0</td>\n",
       "      <td>RUR</td>\n",
       "    </tr>\n",
       "    <tr>\n",
       "      <th>1</th>\n",
       "      <td>41412846</td>\n",
       "      <td>Сварщик-универсал</td>\n",
       "      <td>сварщик</td>\n",
       "      <td>flyInFlyOut</td>\n",
       "      <td>full</td>\n",
       "      <td>between3And6</td>\n",
       "      <td>240000.0</td>\n",
       "      <td>300000.0</td>\n",
       "      <td>RUR</td>\n",
       "    </tr>\n",
       "    <tr>\n",
       "      <th>2</th>\n",
       "      <td>41596650</td>\n",
       "      <td>Сварщик</td>\n",
       "      <td>сварщик</td>\n",
       "      <td>fullDay</td>\n",
       "      <td>full</td>\n",
       "      <td>between1And3</td>\n",
       "      <td>70000.0</td>\n",
       "      <td>90000.0</td>\n",
       "      <td>RUR</td>\n",
       "    </tr>\n",
       "    <tr>\n",
       "      <th>3</th>\n",
       "      <td>41453792</td>\n",
       "      <td>Сварщик на полуавтомат</td>\n",
       "      <td>сварщик</td>\n",
       "      <td>fullDay</td>\n",
       "      <td>full</td>\n",
       "      <td>between1And3</td>\n",
       "      <td>100000.0</td>\n",
       "      <td>100000.0</td>\n",
       "      <td>RUR</td>\n",
       "    </tr>\n",
       "    <tr>\n",
       "      <th>4</th>\n",
       "      <td>41537136</td>\n",
       "      <td>Электрогазосварщик (универсал)</td>\n",
       "      <td>сварщик</td>\n",
       "      <td>flyInFlyOut</td>\n",
       "      <td>full</td>\n",
       "      <td>between3And6</td>\n",
       "      <td>130000.0</td>\n",
       "      <td>150000.0</td>\n",
       "      <td>RUR</td>\n",
       "    </tr>\n",
       "  </tbody>\n",
       "</table>\n",
       "</div>"
      ],
      "text/plain": [
       "         id                            name job_type     schedule employment  \\\n",
       "0  41130189               Сварщик-универсал  сварщик  flyInFlyOut       full   \n",
       "1  41412846               Сварщик-универсал  сварщик  flyInFlyOut       full   \n",
       "2  41596650                         Сварщик  сварщик      fullDay       full   \n",
       "3  41453792          Сварщик на полуавтомат  сварщик      fullDay       full   \n",
       "4  41537136  Электрогазосварщик (универсал)  сварщик  flyInFlyOut       full   \n",
       "\n",
       "     experience  salary_min  salary_max currency  \n",
       "0  between3And6    240000.0    300000.0      RUR  \n",
       "1  between3And6    240000.0    300000.0      RUR  \n",
       "2  between1And3     70000.0     90000.0      RUR  \n",
       "3  between1And3    100000.0    100000.0      RUR  \n",
       "4  between3And6    130000.0    150000.0      RUR  "
      ]
     },
     "execution_count": 147,
     "metadata": {},
     "output_type": "execute_result"
    }
   ],
   "source": [
    "job_df_full.head()"
   ]
  },
  {
   "cell_type": "code",
   "execution_count": 148,
   "metadata": {},
   "outputs": [
    {
     "data": {
      "text/html": [
       "<div>\n",
       "<style scoped>\n",
       "    .dataframe tbody tr th:only-of-type {\n",
       "        vertical-align: middle;\n",
       "    }\n",
       "\n",
       "    .dataframe tbody tr th {\n",
       "        vertical-align: top;\n",
       "    }\n",
       "\n",
       "    .dataframe thead th {\n",
       "        text-align: right;\n",
       "    }\n",
       "</style>\n",
       "<table border=\"1\" class=\"dataframe\">\n",
       "  <thead>\n",
       "    <tr style=\"text-align: right;\">\n",
       "      <th></th>\n",
       "      <th>id</th>\n",
       "      <th>name</th>\n",
       "      <th>job_type</th>\n",
       "      <th>schedule</th>\n",
       "      <th>salary</th>\n",
       "      <th>employment</th>\n",
       "      <th>experience</th>\n",
       "    </tr>\n",
       "  </thead>\n",
       "  <tbody>\n",
       "    <tr>\n",
       "      <th>0</th>\n",
       "      <td>41130189</td>\n",
       "      <td>Сварщик-универсал</td>\n",
       "      <td>сварщик</td>\n",
       "      <td>flyInFlyOut</td>\n",
       "      <td>270000.0</td>\n",
       "      <td>full</td>\n",
       "      <td>between3And6</td>\n",
       "    </tr>\n",
       "    <tr>\n",
       "      <th>1</th>\n",
       "      <td>41412846</td>\n",
       "      <td>Сварщик-универсал</td>\n",
       "      <td>сварщик</td>\n",
       "      <td>flyInFlyOut</td>\n",
       "      <td>270000.0</td>\n",
       "      <td>full</td>\n",
       "      <td>between3And6</td>\n",
       "    </tr>\n",
       "    <tr>\n",
       "      <th>2</th>\n",
       "      <td>41596650</td>\n",
       "      <td>Сварщик</td>\n",
       "      <td>сварщик</td>\n",
       "      <td>fullDay</td>\n",
       "      <td>80000.0</td>\n",
       "      <td>full</td>\n",
       "      <td>between1And3</td>\n",
       "    </tr>\n",
       "    <tr>\n",
       "      <th>3</th>\n",
       "      <td>41453792</td>\n",
       "      <td>Сварщик на полуавтомат</td>\n",
       "      <td>сварщик</td>\n",
       "      <td>fullDay</td>\n",
       "      <td>100000.0</td>\n",
       "      <td>full</td>\n",
       "      <td>between1And3</td>\n",
       "    </tr>\n",
       "    <tr>\n",
       "      <th>4</th>\n",
       "      <td>41537136</td>\n",
       "      <td>Электрогазосварщик (универсал)</td>\n",
       "      <td>сварщик</td>\n",
       "      <td>flyInFlyOut</td>\n",
       "      <td>140000.0</td>\n",
       "      <td>full</td>\n",
       "      <td>between3And6</td>\n",
       "    </tr>\n",
       "  </tbody>\n",
       "</table>\n",
       "</div>"
      ],
      "text/plain": [
       "         id                            name job_type     schedule    salary  \\\n",
       "0  41130189               Сварщик-универсал  сварщик  flyInFlyOut  270000.0   \n",
       "1  41412846               Сварщик-универсал  сварщик  flyInFlyOut  270000.0   \n",
       "2  41596650                         Сварщик  сварщик      fullDay   80000.0   \n",
       "3  41453792          Сварщик на полуавтомат  сварщик      fullDay  100000.0   \n",
       "4  41537136  Электрогазосварщик (универсал)  сварщик  flyInFlyOut  140000.0   \n",
       "\n",
       "  employment    experience  \n",
       "0       full  between3And6  \n",
       "1       full  between3And6  \n",
       "2       full  between1And3  \n",
       "3       full  between1And3  \n",
       "4       full  between3And6  "
      ]
     },
     "execution_count": 148,
     "metadata": {},
     "output_type": "execute_result"
    }
   ],
   "source": [
    "job_df_full = normalize_salary(job_df_full)\n",
    "job_df_full.head()"
   ]
  },
  {
   "cell_type": "code",
   "execution_count": 149,
   "metadata": {},
   "outputs": [
    {
     "data": {
      "image/png": "[encoded data removed]",
      "text/plain": [
       "<Figure size 432x432 with 1 Axes>"
      ]
     },
     "metadata": {},
     "output_type": "display_data"
    }
   ],
   "source": [
    "job_df_class = job_df_full.groupby('employment').size()\n",
    "job_df_class.plot(kind='pie', figsize=(6, 6), label=\"\")\n",
    "plt.show()"
   ]
  },
  {
   "cell_type": "code",
   "execution_count": 150,
   "metadata": {},
   "outputs": [
    {
     "data": {
      "image/png": "[encoded data removed]",
      "text/plain": [
       "<Figure size 432x432 with 1 Axes>"
      ]
     },
     "metadata": {},
     "output_type": "display_data"
    }
   ],
   "source": [
    "job_df_class = job_df_full.groupby('schedule').size()\n",
    "job_df_class.plot(kind='pie', figsize=(6, 6), label=\"\")\n",
    "plt.show()"
   ]
  },
  {
   "cell_type": "code",
   "execution_count": 151,
   "metadata": {},
   "outputs": [
    {
     "data": {
      "image/png": "[encoded data removed]",
      "text/plain": [
       "<Figure size 432x432 with 1 Axes>"
      ]
     },
     "metadata": {},
     "output_type": "display_data"
    }
   ],
   "source": [
    "job_df_class = job_df_full.groupby('experience').size()\n",
    "job_df_class.plot(kind='pie', figsize=(6, 6), label=\"\")\n",
    "plt.show()"
   ]
  },
  {
   "cell_type": "code",
   "execution_count": 160,
   "metadata": {},
   "outputs": [
    {
     "data": {
      "text/plain": [
       "array([0.  , 0.75, 1.5 , 2.25, 3.  ])"
      ]
     },
     "execution_count": 160,
     "metadata": {},
     "output_type": "execute_result"
    }
   ],
   "source": [
    "np.unique(job_df_full[x_var]).tolist()"
   ]
  },
  {
   "cell_type": "code",
   "execution_count": 165,
   "metadata": {},
   "outputs": [
    {
     "data": {
      "image/png": "[encoded data removed]",
      "text/plain": [
       "<Figure size 720x360 with 1 Axes>"
      ]
     },
     "metadata": {
      "needs_background": "light"
     },
     "output_type": "display_data"
    }
   ],
   "source": [
    "x_var = 'job_type'\n",
    "groupby_var = 'schedule'\n",
    "job_df_agg = job_df_full.loc[:, [x_var, groupby_var]].groupby(groupby_var)\n",
    "vals = [job_df_full[x_var].astype('category').cat.codes.values.tolist() for i, job_df_full in job_df_agg]\n",
    "plt.figure(figsize=(10,5))\n",
    "colors = [plt.cm.Spectral(i/float(len(vals)-1)) for i in range(len(vals))]\n",
    "n, bins, patches = plt.hist(vals, job_df_full[x_var].unique().__len__(), color=colors[:len(vals)], rwidth=0.5, stacked=True, density=False)\n",
    "plt.legend({group:col for group, col in zip(np.unique(job_df_full[groupby_var]).tolist(), colors[:len(vals)])})\n",
    "plt.xticks(bins[:-1], np.unique(job_df_full[x_var]).tolist(), rotation=20, horizontalalignment='left')\n",
    "plt.show()"
   ]
  },
  {
   "cell_type": "code",
   "execution_count": 167,
   "metadata": {},
   "outputs": [
    {
     "data": {
      "image/png": "[encoded data removed]",
      "text/plain": [
       "<Figure size 720x360 with 1 Axes>"
      ]
     },
     "metadata": {
      "needs_background": "light"
     },
     "output_type": "display_data"
    }
   ],
   "source": [
    "x_var = 'job_type'\n",
    "groupby_var = 'experience'\n",
    "job_df_agg = job_df_full.loc[:, [x_var, groupby_var]].groupby(groupby_var)\n",
    "vals = [job_df_full[x_var].astype('category').cat.codes.values.tolist() for i, job_df_full in job_df_agg]\n",
    "plt.figure(figsize=(10,5))\n",
    "colors = [plt.cm.Spectral(i/float(len(vals)-1)) for i in range(len(vals))]\n",
    "n, bins, patches = plt.hist(vals, job_df_full[x_var].unique().__len__(), color=colors[:len(vals)], rwidth=0.5, stacked=True, density=False)\n",
    "plt.legend({group:col for group, col in zip(np.unique(job_df_full[groupby_var]).tolist(), colors[:len(vals)])})\n",
    "plt.xticks(bins[:-1], np.unique(job_df_full[x_var]).tolist(), rotation=20, horizontalalignment='left')\n",
    "plt.show()"
   ]
  },
  {
   "cell_type": "code",
   "execution_count": 154,
   "metadata": {},
   "outputs": [
    {
     "data": {
      "image/png": "[encoded data removed]",
      "text/plain": [
       "<Figure size 432x360 with 1 Axes>"
      ]
     },
     "metadata": {
      "needs_background": "light"
     },
     "output_type": "display_data"
    }
   ],
   "source": [
    "# Entries with/without salary\n",
    "job_df_class = job_df_full.groupby(job_df_full['salary']>0).size()\n",
    "job_df_class.plot(kind='bar', figsize=(6, 5))\n",
    "plt.show()"
   ]
  },
  {
   "cell_type": "code",
   "execution_count": 155,
   "metadata": {},
   "outputs": [],
   "source": [
    "salary_df = job_df_full[job_df_full['salary']>0]"
   ]
  },
  {
   "cell_type": "code",
   "execution_count": 156,
   "metadata": {},
   "outputs": [
    {
     "data": {
      "image/png": "[encoded data removed]",
      "text/plain": [
       "<Figure size 432x432 with 1 Axes>"
      ]
     },
     "metadata": {},
     "output_type": "display_data"
    }
   ],
   "source": [
    "# Entries with salary per job\n",
    "job_df_class = salary_df.groupby('job_type').size()\n",
    "job_df_class.plot(kind='pie', figsize=(6, 6), label=\"\")\n",
    "plt.show()"
   ]
  },
  {
   "cell_type": "code",
   "execution_count": 157,
   "metadata": {},
   "outputs": [
    {
     "data": {
      "image/png": "[encoded data removed]",
      "text/plain": [
       "<Figure size 432x432 with 1 Axes>"
      ]
     },
     "metadata": {
      "needs_background": "light"
     },
     "output_type": "display_data"
    }
   ],
   "source": [
    "# Average wage per job type\n",
    "job_df_class = salary_df.groupby('job_type').sum()\n",
    "job_df_class['salary'] /= salary_df.groupby('job_type').size()\n",
    "job_df_class.plot(kind='barh', y='salary', figsize=(6, 6), label=\"\")\n",
    "plt.show()"
   ]
  },
  {
   "cell_type": "code",
   "execution_count": null,
   "metadata": {},
   "outputs": [],
   "source": [
    "# зарплата в зависимости от опыта\n",
    "# вводится свой опыт, неподходящие фильтруются\n",
    "# литературные источники (в отчет) визуализации и анализа трудоустройства (ручного и автоматическо)\n",
    "# исследования трудоустройства ручные проводились (12345), но недостатком этих исследований является то что они проводились вручную, и при любых изменениях на рынке труда (напр. ковид) резулдьтаты исследований становятся неактуальными, а их обновление требует большого количество дополнительных временных и человеческих ресурсов.\n",
    "# автоматисечкие исследования тоже проводились, но:\n",
    "#    -код закрытый\n",
    "#    -пользоваться уже нельзя\n",
    "#    -плохая визуализация\n",
    "#    -нельзя перенести на другие сферы\n",
    "# встроенные ресурсы на сайтах поиска работы тоже не позволяют обрабатывать большие объемы данных\n",
    "# результат - наглядный и адаптирующийся"
   ]
  },
  {
   "cell_type": "code",
   "execution_count": null,
   "metadata": {},
   "outputs": [],
   "source": []
  },
  {
   "cell_type": "code",
   "execution_count": null,
   "metadata": {},
   "outputs": [],
   "source": []
  }
 ],
 "metadata": {
  "kernelspec": {
   "display_name": "Python 3",
   "language": "python",
   "name": "python3"
  },
  "language_info": {
   "codemirror_mode": {
    "name": "ipython",
    "version": 3
   },
   "file_extension": ".py",
   "mimetype": "text/x-python",
   "name": "python",
   "nbconvert_exporter": "python",
   "pygments_lexer": "ipython3",
   "version": "3.8.5"
  }
 },
 "nbformat": 4,
 "nbformat_minor": 4
}
