{
 "cells": [
  {
   "cell_type": "code",
   "execution_count": 1,
   "metadata": {},
   "outputs": [],
   "source": [
    "import pandas as pd\n",
    "import numpy as np\n",
    "import matplotlib as mpl\n",
    "import matplotlib.pyplot as plt\n",
    "import seaborn as sns"
   ]
  },
  {
   "cell_type": "code",
   "execution_count": 2,
   "metadata": {},
   "outputs": [],
   "source": [
    "import requests\n",
    "import json"
   ]
  },
  {
   "cell_type": "code",
   "execution_count": 3,
   "metadata": {},
   "outputs": [],
   "source": [
    "def get(query, timeout=5, max_retries=5, backoff_factor=0.3):\n",
    "    \"\"\" Выполнить GET-запрос\n",
    "\n",
    "    :param query: запрос с адресом\n",
    "    :param timeout: максимальное время ожидания ответа от сервера\n",
    "    :param max_retries: максимальное число повторных запросов\n",
    "    :param backoff_factor: коэффициент экспоненциального нарастания задержки\n",
    "    \"\"\"\n",
    "    import time\n",
    "    import random\n",
    "    delay = 0\n",
    "    for i in range(max_retries):\n",
    "        try:\n",
    "            response = requests.get(query)\n",
    "            return response.json()\n",
    "        except:\n",
    "            pass\n",
    "        time.sleep(delay)\n",
    "        delay = min(delay * backoff_factor, timeout)\n",
    "        delay += random.random()\n",
    "    return response"
   ]
  },
  {
   "cell_type": "code",
   "execution_count": 4,
   "metadata": {},
   "outputs": [],
   "source": [
    "def get_id_page_counts(job_name):\n",
    "    query = \"https://api.hh.ru/vacancies?text=\" + job_name\n",
    "    result = get(query)\n",
    "    return (result['found'], result['pages'])"
   ]
  },
  {
   "cell_type": "code",
   "execution_count": 5,
   "metadata": {
    "scrolled": true
   },
   "outputs": [],
   "source": [
    "test_page_counts = get_id_page_counts('Data scientist')"
   ]
  },
  {
   "cell_type": "code",
   "execution_count": 6,
   "metadata": {},
   "outputs": [],
   "source": [
    "def get_vacancy_ids(job_name):\n",
    "    query_data = {\n",
    "        \"search_field\": job_name,\n",
    "        \"page\": 0\n",
    "    }\n",
    "    id_count, page_count = get_id_page_counts(job_name)\n",
    "    id_list = []\n",
    "    while query_data['page']<page_count:\n",
    "        query = \"https://api.hh.ru/vacancies?text={search_field}&page={page}\".format(**query_data)\n",
    "        result = get(query)\n",
    "        query_data[\"page\"] += 1\n",
    "        for i in range(len(result['items'])):\n",
    "            id_list.append(result['items'][i]['id'])\n",
    "    return id_list"
   ]
  },
  {
   "cell_type": "code",
   "execution_count": 7,
   "metadata": {},
   "outputs": [],
   "source": [
    "test_id_list = get_vacancy_ids('Data scientist')"
   ]
  },
  {
   "cell_type": "code",
   "execution_count": 8,
   "metadata": {},
   "outputs": [
    {
     "name": "stdout",
     "output_type": "stream",
     "text": [
      "433 (433, 22)\n"
     ]
    }
   ],
   "source": [
    "print(len(test_id_list), test_page_counts)"
   ]
  },
  {
   "cell_type": "code",
   "execution_count": 9,
   "metadata": {},
   "outputs": [],
   "source": [
    "def parse_append(raw_data, json_data):\n",
    "    if not json_data:\n",
    "        json_data={\n",
    "                'id': [],\n",
    "                'name': [],\n",
    "                'schedule': [],\n",
    "                'employment':[],\n",
    "                'experience':[],\n",
    "                'salary_min': [],\n",
    "                'salary_max': [],\n",
    "                'currency': []\n",
    "    }\n",
    "    json_data['id'].append(raw_data['id'])\n",
    "    json_data['name'].append(raw_data['name'])\n",
    "    json_data['schedule'].append(raw_data['schedule']['id'])\n",
    "    json_data['employment'].append(raw_data['employment']['id'])\n",
    "    json_data['experience'].append(raw_data['experience']['id'])\n",
    "    if raw_data['salary']:\n",
    "        if raw_data['salary']['from'] == None: \n",
    "            json_data['salary_min'].append(raw_data['salary']['to'])\n",
    "        else:\n",
    "            json_data['salary_min'].append(raw_data['salary']['from'])\n",
    "        if raw_data['salary']['to'] == None: \n",
    "            json_data['salary_max'].append(raw_data['salary']['from'])\n",
    "        else:\n",
    "            json_data['salary_max'].append(raw_data['salary']['to'])\n",
    "        json_data['currency'].append(raw_data['salary']['currency'])\n",
    "    else:\n",
    "        json_data['salary_min'].append(None)\n",
    "        json_data['salary_max'].append(None)\n",
    "        json_data['currency'].append(None)   \n",
    "    return json_data"
   ]
  },
  {
   "cell_type": "code",
   "execution_count": 10,
   "metadata": {},
   "outputs": [],
   "source": [
    "def ids_to_data(id_list):\n",
    "    job_json = {}\n",
    "    for i in range(len(id_list)):\n",
    "        query = \"https://api.hh.ru/vacancies/\" + id_list[i]\n",
    "        job_json = parse_append(get(query), job_json)\n",
    "    return job_json        "
   ]
  },
  {
   "cell_type": "code",
   "execution_count": 11,
   "metadata": {},
   "outputs": [],
   "source": [
    "def get_job_data(job_name, count=None):\n",
    "    id_list = get_vacancy_ids(job_name)\n",
    "    if count:\n",
    "        return ids_to_data(id_list[:count])\n",
    "    return ids_to_data(id_list)"
   ]
  },
  {
   "cell_type": "code",
   "execution_count": 12,
   "metadata": {},
   "outputs": [
    {
     "data": {
      "text/html": [
       "<div>\n",
       "<style scoped>\n",
       "    .dataframe tbody tr th:only-of-type {\n",
       "        vertical-align: middle;\n",
       "    }\n",
       "\n",
       "    .dataframe tbody tr th {\n",
       "        vertical-align: top;\n",
       "    }\n",
       "\n",
       "    .dataframe thead th {\n",
       "        text-align: right;\n",
       "    }\n",
       "</style>\n",
       "<table border=\"1\" class=\"dataframe\">\n",
       "  <thead>\n",
       "    <tr style=\"text-align: right;\">\n",
       "      <th></th>\n",
       "      <th>id</th>\n",
       "      <th>name</th>\n",
       "      <th>schedule</th>\n",
       "      <th>employment</th>\n",
       "      <th>experience</th>\n",
       "      <th>salary_min</th>\n",
       "      <th>salary_max</th>\n",
       "      <th>currency</th>\n",
       "    </tr>\n",
       "  </thead>\n",
       "  <tbody>\n",
       "    <tr>\n",
       "      <th>0</th>\n",
       "      <td>34247056</td>\n",
       "      <td>Data Scientist</td>\n",
       "      <td>flexible</td>\n",
       "      <td>full</td>\n",
       "      <td>between1And3</td>\n",
       "      <td>NaN</td>\n",
       "      <td>NaN</td>\n",
       "      <td>None</td>\n",
       "    </tr>\n",
       "    <tr>\n",
       "      <th>1</th>\n",
       "      <td>34070637</td>\n",
       "      <td>Computer Vision / Data scientist CV</td>\n",
       "      <td>fullDay</td>\n",
       "      <td>full</td>\n",
       "      <td>between1And3</td>\n",
       "      <td>100000.0</td>\n",
       "      <td>200000.0</td>\n",
       "      <td>RUR</td>\n",
       "    </tr>\n",
       "    <tr>\n",
       "      <th>2</th>\n",
       "      <td>34150254</td>\n",
       "      <td>In Vitro Pharmacology Scientist</td>\n",
       "      <td>fullDay</td>\n",
       "      <td>full</td>\n",
       "      <td>between3And6</td>\n",
       "      <td>NaN</td>\n",
       "      <td>NaN</td>\n",
       "      <td>None</td>\n",
       "    </tr>\n",
       "    <tr>\n",
       "      <th>3</th>\n",
       "      <td>34065616</td>\n",
       "      <td>Data Scientist</td>\n",
       "      <td>fullDay</td>\n",
       "      <td>full</td>\n",
       "      <td>between3And6</td>\n",
       "      <td>NaN</td>\n",
       "      <td>NaN</td>\n",
       "      <td>None</td>\n",
       "    </tr>\n",
       "    <tr>\n",
       "      <th>4</th>\n",
       "      <td>34146009</td>\n",
       "      <td>Data scientist</td>\n",
       "      <td>fullDay</td>\n",
       "      <td>full</td>\n",
       "      <td>between1And3</td>\n",
       "      <td>NaN</td>\n",
       "      <td>NaN</td>\n",
       "      <td>None</td>\n",
       "    </tr>\n",
       "  </tbody>\n",
       "</table>\n",
       "</div>"
      ],
      "text/plain": [
       "         id                                 name  schedule employment  \\\n",
       "0  34247056                       Data Scientist  flexible       full   \n",
       "1  34070637  Computer Vision / Data scientist CV   fullDay       full   \n",
       "2  34150254      In Vitro Pharmacology Scientist   fullDay       full   \n",
       "3  34065616                       Data Scientist   fullDay       full   \n",
       "4  34146009                       Data scientist   fullDay       full   \n",
       "\n",
       "     experience  salary_min  salary_max currency  \n",
       "0  between1And3         NaN         NaN     None  \n",
       "1  between1And3    100000.0    200000.0      RUR  \n",
       "2  between3And6         NaN         NaN     None  \n",
       "3  between3And6         NaN         NaN     None  \n",
       "4  between1And3         NaN         NaN     None  "
      ]
     },
     "execution_count": 12,
     "metadata": {},
     "output_type": "execute_result"
    }
   ],
   "source": [
    "job_df=pd.DataFrame(get_job_data('Data scientist'))\n",
    "job_df.head(5)"
   ]
  },
  {
   "cell_type": "code",
   "execution_count": 13,
   "metadata": {},
   "outputs": [
    {
     "data": {
      "text/plain": [
       "(433, 8)"
      ]
     },
     "execution_count": 13,
     "metadata": {},
     "output_type": "execute_result"
    }
   ],
   "source": [
    "job_df.shape"
   ]
  },
  {
   "cell_type": "code",
   "execution_count": 14,
   "metadata": {},
   "outputs": [],
   "source": [
    "def normalize_currency(job_entry):\n",
    "    if job_entry['currency'] == 'USD':\n",
    "        job_entry['currency'] = 'RUR'\n",
    "        job_entry['salary'] *= 65\n",
    "    if job_entry['currency'] == 'EUR':\n",
    "        job_entry['currency'] = 'RUR'\n",
    "        job_entry['salary'] *= 75\n",
    "    return job_entry"
   ]
  },
  {
   "cell_type": "code",
   "execution_count": 15,
   "metadata": {},
   "outputs": [],
   "source": [
    "def normalize_salary(job_df):\n",
    "    job_df.insert(loc=4, column='salary', value=((job_df['salary_min']+job_df['salary_max'])/2))\n",
    "    job_df.apply(normalize_currency, 1)\n",
    "    return job_df.drop(columns=['salary_min', 'salary_max'])"
   ]
  },
  {
   "cell_type": "code",
   "execution_count": 17,
   "metadata": {},
   "outputs": [],
   "source": [
    "job_df_list={\n",
    "    'data scientist': {},\n",
    "    'бизнес аналитик': {},\n",
    "    'web разработчик': {},\n",
    "    'python программист': {}\n",
    "}\n",
    "for i in job_df_list.keys():\n",
    "    job_df_list[i] = pd.DataFrame(get_job_data(i))"
   ]
  },
  {
   "cell_type": "code",
   "execution_count": 29,
   "metadata": {},
   "outputs": [],
   "source": [
    "job_df_full = job_df_list['бизнес аналитик'].head(400)\n",
    "job_df_full.insert(loc=2, column='job_type', value = 'бизнес аналитик')\n",
    "job_df_full = job_df_full.append(job_df_list['python программист'].head(400))\n",
    "job_df_full['job_type'] = job_df_full['job_type'].fillna('python программист')\n",
    "job_df_full = job_df_full.append(job_df_list['web разработчик'].head(400))\n",
    "job_df_full['job_type'] = job_df_full['job_type'].fillna('web разработчик')\n",
    "job_df_full = job_df_full.append(job_df_list['data scientist'].head(400))\n",
    "job_df_full['job_type'] = job_df_full['job_type'].fillna('data scientist')"
   ]
  },
  {
   "cell_type": "code",
   "execution_count": 30,
   "metadata": {
    "scrolled": true
   },
   "outputs": [
    {
     "data": {
      "text/html": [
       "<div>\n",
       "<style scoped>\n",
       "    .dataframe tbody tr th:only-of-type {\n",
       "        vertical-align: middle;\n",
       "    }\n",
       "\n",
       "    .dataframe tbody tr th {\n",
       "        vertical-align: top;\n",
       "    }\n",
       "\n",
       "    .dataframe thead th {\n",
       "        text-align: right;\n",
       "    }\n",
       "</style>\n",
       "<table border=\"1\" class=\"dataframe\">\n",
       "  <thead>\n",
       "    <tr style=\"text-align: right;\">\n",
       "      <th></th>\n",
       "      <th>currency</th>\n",
       "      <th>employment</th>\n",
       "      <th>experience</th>\n",
       "      <th>id</th>\n",
       "      <th>salary</th>\n",
       "      <th>job_type</th>\n",
       "      <th>name</th>\n",
       "      <th>schedule</th>\n",
       "    </tr>\n",
       "  </thead>\n",
       "  <tbody>\n",
       "    <tr>\n",
       "      <th>0</th>\n",
       "      <td>RUR</td>\n",
       "      <td>full</td>\n",
       "      <td>between1And3</td>\n",
       "      <td>33877075</td>\n",
       "      <td>150000.0</td>\n",
       "      <td>бизнес аналитик</td>\n",
       "      <td>Бизнес-аналитик</td>\n",
       "      <td>fullDay</td>\n",
       "    </tr>\n",
       "    <tr>\n",
       "      <th>1</th>\n",
       "      <td>RUR</td>\n",
       "      <td>full</td>\n",
       "      <td>between3And6</td>\n",
       "      <td>34241360</td>\n",
       "      <td>100000.0</td>\n",
       "      <td>бизнес аналитик</td>\n",
       "      <td>Аналитик бизнес-процессов / бизнес-аналитик</td>\n",
       "      <td>fullDay</td>\n",
       "    </tr>\n",
       "    <tr>\n",
       "      <th>2</th>\n",
       "      <td>RUR</td>\n",
       "      <td>full</td>\n",
       "      <td>between3And6</td>\n",
       "      <td>34050009</td>\n",
       "      <td>90000.0</td>\n",
       "      <td>бизнес аналитик</td>\n",
       "      <td>Бизнес-аналитик</td>\n",
       "      <td>fullDay</td>\n",
       "    </tr>\n",
       "    <tr>\n",
       "      <th>3</th>\n",
       "      <td>RUR</td>\n",
       "      <td>full</td>\n",
       "      <td>between1And3</td>\n",
       "      <td>34148183</td>\n",
       "      <td>125000.0</td>\n",
       "      <td>бизнес аналитик</td>\n",
       "      <td>Менеджер проекта/ бизнес-аналитик</td>\n",
       "      <td>fullDay</td>\n",
       "    </tr>\n",
       "    <tr>\n",
       "      <th>4</th>\n",
       "      <td>RUR</td>\n",
       "      <td>full</td>\n",
       "      <td>between1And3</td>\n",
       "      <td>32203964</td>\n",
       "      <td>130000.0</td>\n",
       "      <td>бизнес аналитик</td>\n",
       "      <td>Старший бизнес-аналитик СЭД</td>\n",
       "      <td>fullDay</td>\n",
       "    </tr>\n",
       "  </tbody>\n",
       "</table>\n",
       "</div>"
      ],
      "text/plain": [
       "  currency employment    experience        id    salary         job_type  \\\n",
       "0      RUR       full  between1And3  33877075  150000.0  бизнес аналитик   \n",
       "1      RUR       full  between3And6  34241360  100000.0  бизнес аналитик   \n",
       "2      RUR       full  between3And6  34050009   90000.0  бизнес аналитик   \n",
       "3      RUR       full  between1And3  34148183  125000.0  бизнес аналитик   \n",
       "4      RUR       full  between1And3  32203964  130000.0  бизнес аналитик   \n",
       "\n",
       "                                          name schedule  \n",
       "0                              Бизнес-аналитик  fullDay  \n",
       "1  Аналитик бизнес-процессов / бизнес-аналитик  fullDay  \n",
       "2                              Бизнес-аналитик  fullDay  \n",
       "3            Менеджер проекта/ бизнес-аналитик  fullDay  \n",
       "4                  Старший бизнес-аналитик СЭД  fullDay  "
      ]
     },
     "execution_count": 30,
     "metadata": {},
     "output_type": "execute_result"
    }
   ],
   "source": [
    "job_df_full = normalize_salary(job_df_full)\n",
    "job_df_full.head()"
   ]
  },
  {
   "cell_type": "code",
   "execution_count": 20,
   "metadata": {},
   "outputs": [
    {
     "data": {
      "text/plain": [
       "<matplotlib.axes._subplots.AxesSubplot at 0x1c946aedd30>"
      ]
     },
     "execution_count": 20,
     "metadata": {},
     "output_type": "execute_result"
    },
    {
     "data": {
      "image/png": "[encoded data removed]",
      "text/plain": [
       "<matplotlib.figure.Figure at 0x1c9473de8d0>"
      ]
     },
     "metadata": {},
     "output_type": "display_data"
    }
   ],
   "source": [
    "job_df_class = job_df_full.groupby('employment').size()\n",
    "job_df_class.plot(kind='pie', figsize=(6, 6), label=\"\")"
   ]
  },
  {
   "cell_type": "code",
   "execution_count": 21,
   "metadata": {},
   "outputs": [
    {
     "data": {
      "text/plain": [
       "<matplotlib.axes._subplots.AxesSubplot at 0x1c9473dea58>"
      ]
     },
     "execution_count": 21,
     "metadata": {},
     "output_type": "execute_result"
    },
    {
     "data": {
      "image/png": "[encoded data removed]",
      "text/plain": [
       "<matplotlib.figure.Figure at 0x1c946aed550>"
      ]
     },
     "metadata": {},
     "output_type": "display_data"
    }
   ],
   "source": [
    "job_df_class = job_df_full.groupby('schedule').size()\n",
    "job_df_class.plot(kind='pie', figsize=(6, 6), label=\"\")"
   ]
  },
  {
   "cell_type": "code",
   "execution_count": 22,
   "metadata": {},
   "outputs": [
    {
     "data": {
      "text/plain": [
       "<matplotlib.axes._subplots.AxesSubplot at 0x1c94775d438>"
      ]
     },
     "execution_count": 22,
     "metadata": {},
     "output_type": "execute_result"
    },
    {
     "data": {
      "image/png": "[encoded data removed]",
      "text/plain": [
       "<matplotlib.figure.Figure at 0x1c941a3f668>"
      ]
     },
     "metadata": {},
     "output_type": "display_data"
    }
   ],
   "source": [
    "job_df_class = job_df_full.groupby('experience').size()\n",
    "job_df_class.plot(kind='pie', figsize=(6, 6), label=\"\")"
   ]
  },
  {
   "cell_type": "code",
   "execution_count": 23,
   "metadata": {},
   "outputs": [
    {
     "data": {
      "image/png": "[encoded data removed]",
      "text/plain": [
       "<matplotlib.figure.Figure at 0x1c9478c86a0>"
      ]
     },
     "metadata": {
      "needs_background": "light"
     },
     "output_type": "display_data"
    }
   ],
   "source": [
    "x_var = 'job_type'\n",
    "groupby_var = 'schedule'\n",
    "job_df_agg = job_df_full.loc[:, [x_var, groupby_var]].groupby(groupby_var)\n",
    "vals = [job_df_full[x_var].astype('category').cat.codes.values.tolist() for i, job_df_full in job_df_agg]\n",
    "plt.figure(figsize=(10,5))\n",
    "colors = [plt.cm.Spectral(i/float(len(vals)-1)) for i in range(len(vals))]\n",
    "n, bins, patches = plt.hist(vals, job_df_full[x_var].unique().__len__(), color=colors[:len(vals)], rwidth=0.5, stacked=True, density=False)\n",
    "plt.legend({group:col for group, col in zip(np.unique(job_df_full[groupby_var]).tolist(), colors[:len(vals)])})\n",
    "plt.xticks(bins, np.unique(job_df_full[x_var]).tolist(), rotation=0, horizontalalignment='left')\n",
    "plt.show()"
   ]
  },
  {
   "cell_type": "code",
   "execution_count": 24,
   "metadata": {
    "scrolled": true
   },
   "outputs": [
    {
     "data": {
      "image/png": "[encoded data removed]",
      "text/plain": [
       "<matplotlib.figure.Figure at 0x1c946af3400>"
      ]
     },
     "metadata": {
      "needs_background": "light"
     },
     "output_type": "display_data"
    }
   ],
   "source": [
    "x_var = 'job_type'\n",
    "groupby_var = 'experience'\n",
    "job_df_agg = job_df_full.loc[:, [x_var, groupby_var]].groupby(groupby_var)\n",
    "vals = [job_df_full[x_var].astype('category').cat.codes.values.tolist() for i, job_df_full in job_df_agg]\n",
    "plt.figure(figsize=(10,5))\n",
    "colors = [plt.cm.Spectral(i/float(len(vals)-1)) for i in range(len(vals))]\n",
    "n, bins, patches = plt.hist(vals, job_df_full[x_var].unique().__len__(), color=colors[:len(vals)], rwidth=0.5, stacked=True, density=False)\n",
    "plt.legend({group:col for group, col in zip(np.unique(job_df_full[groupby_var]).tolist(), colors[:len(vals)])})\n",
    "plt.xticks(bins, np.unique(job_df_full[x_var]).tolist(), rotation=0, horizontalalignment='left')\n",
    "plt.show()"
   ]
  },
  {
   "cell_type": "code",
   "execution_count": 31,
   "metadata": {
    "scrolled": true
   },
   "outputs": [
    {
     "data": {
      "image/png": "[encoded data removed]",
      "text/plain": [
       "<matplotlib.figure.Figure at 0x1c947be80f0>"
      ]
     },
     "metadata": {},
     "output_type": "display_data"
    }
   ],
   "source": [
    "job_df_class = job_df_full.groupby(job_df_full['salary']>0).size()\n",
    "job_df_class.plot(kind='pie', figsize=(6, 6), label=\"\")\n",
    "plt.show()"
   ]
  },
  {
   "cell_type": "code",
   "execution_count": 32,
   "metadata": {},
   "outputs": [],
   "source": [
    "salary_df = job_df_full[job_df_full['salary']>0]"
   ]
  },
  {
   "cell_type": "code",
   "execution_count": 33,
   "metadata": {},
   "outputs": [
    {
     "data": {
      "text/plain": [
       "<matplotlib.axes._subplots.AxesSubplot at 0x1c947be8278>"
      ]
     },
     "execution_count": 33,
     "metadata": {},
     "output_type": "execute_result"
    },
    {
     "data": {
      "image/png": "[encoded data removed]",
      "text/plain": [
       "<matplotlib.figure.Figure at 0x1c947be89e8>"
      ]
     },
     "metadata": {},
     "output_type": "display_data"
    }
   ],
   "source": [
    "job_df_class = salary_df.groupby('job_type').size()\n",
    "job_df_class.plot(kind='pie', figsize=(6, 6), label=\"\")"
   ]
  },
  {
   "cell_type": "code",
   "execution_count": 34,
   "metadata": {},
   "outputs": [
    {
     "data": {
      "text/plain": [
       "<matplotlib.axes._subplots.AxesSubplot at 0x1c947c18c88>"
      ]
     },
     "execution_count": 34,
     "metadata": {},
     "output_type": "execute_result"
    },
    {
     "data": {
      "image/png": "[encoded data removed]",
      "text/plain": [
       "<matplotlib.figure.Figure at 0x1c947bebfd0>"
      ]
     },
     "metadata": {
      "needs_background": "light"
     },
     "output_type": "display_data"
    }
   ],
   "source": [
    "# Average wage per job type\n",
    "job_df_class = salary_df.groupby('job_type').sum()\n",
    "job_df_class['salary'] /= salary_df.groupby('job_type').size()\n",
    "job_df_class.plot(kind='barh', y='salary', figsize=(6, 6), label=\"\")"
   ]
  },
  {
   "cell_type": "code",
   "execution_count": null,
   "metadata": {},
   "outputs": [],
   "source": []
  },
  {
   "cell_type": "code",
   "execution_count": null,
   "metadata": {},
   "outputs": [],
   "source": []
  }
 ],
 "metadata": {
  "kernelspec": {
   "display_name": "Python 3",
   "language": "python",
   "name": "python3"
  },
  "language_info": {
   "codemirror_mode": {
    "name": "ipython",
    "version": 3
   },
   "file_extension": ".py",
   "mimetype": "text/x-python",
   "name": "python",
   "nbconvert_exporter": "python",
   "pygments_lexer": "ipython3",
   "version": "3.6.6"
  }
 },
 "nbformat": 4,
 "nbformat_minor": 2
}
